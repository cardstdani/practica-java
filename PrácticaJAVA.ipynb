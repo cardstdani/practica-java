{
  "nbformat": 4,
  "nbformat_minor": 0,
  "metadata": {
    "colab": {
      "provenance": [],
      "mount_file_id": "1cOi-kzw_fvPM6HYTfzxU-q7bd06Ctvu3",
      "authorship_tag": "ABX9TyMtR79fnSrzHGOfyJpKdhNd",
      "include_colab_link": true
    },
    "kernelspec": {
      "name": "python3",
      "display_name": "Python 3"
    },
    "language_info": {
      "name": "python"
    }
  },
  "cells": [
    {
      "cell_type": "markdown",
      "metadata": {
        "id": "view-in-github",
        "colab_type": "text"
      },
      "source": [
        "<a href=\"https://colab.research.google.com/github/cardstdani/practica-java/blob/main/Pr%C3%A1cticaJAVA.ipynb\" target=\"_parent\"><img src=\"https://colab.research.google.com/assets/colab-badge.svg\" alt=\"Open In Colab\"/></a>"
      ]
    },
    {
      "cell_type": "code",
      "source": [
        "!apt update\n",
        "!apt install enchant --fix-missing\n",
        "!apt install -qq enchant\n",
        "!pip install pyenchant\n",
        "!sudo apt install myspell-es\n",
        "!pip install unidecode"
      ],
      "metadata": {
        "id": "12ffm-5yQpc_"
      },
      "execution_count": null,
      "outputs": []
    },
    {
      "cell_type": "code",
      "source": [
        "import enchant\n",
        "d = enchant.Dict(\"es\")\n",
        "print(d.check(\"habra\"))\n",
        "print(d.suggest(\"habra\"))"
      ],
      "metadata": {
        "colab": {
          "base_uri": "https://localhost:8080/"
        },
        "id": "sWzI3ptmQo0e",
        "outputId": "6b9ca890-8a9b-45b0-cbd7-27222239fc7a"
      },
      "execution_count": 19,
      "outputs": [
        {
          "output_type": "stream",
          "name": "stdout",
          "text": [
            "False\n",
            "['habrá', 'harba', 'habar', 'haba', 'abra', 'habría', 'hebra', 'habla', 'labra', 'cabra', 'había', 'habré']\n"
          ]
        }
      ]
    },
    {
      "cell_type": "code",
      "execution_count": 56,
      "metadata": {
        "colab": {
          "base_uri": "https://localhost:8080/"
        },
        "id": "vVpANcne97GC",
        "outputId": "84b4c054-4bb0-4358-8e61-16914076b8e4"
      },
      "outputs": [
        {
          "output_type": "stream",
          "name": "stdout",
          "text": [
            "['A', 'B', 'C', 'D', 'E', 'F', 'G', 'H', 'I', 'J', 'K', 'L', 'M', 'N', 'O', 'P', 'Q', 'R', 'S', 'T', 'U', 'V', 'W', 'X', 'Y', 'Z', 'Á', 'É', 'Í', 'Ó', 'Ú', 'Ü']\n",
            "['AAAAA', 'AAAAB', 'AAAAC', 'AAAAD', 'AAAAE', 'AAAAF', 'AAAAG', 'AAAAH', 'AAAAI', 'AAAAJ'] 33554432\n"
          ]
        }
      ],
      "source": [
        "import itertools\n",
        "import unidecode\n",
        "\n",
        "d = enchant.Dict(\"es\")\n",
        "def checkString(n):\n",
        "  return True if d.check(n) else False\n",
        "\n",
        "l = [chr(i).upper() for i in range(97, 123)]+[i.upper() for i in [\"á\", \"é\", \"í\", \"ó\", \"ú\", \"ü\"]]\n",
        "s = sorted([\"\".join(i) for i in itertools.product(l, repeat=5)])\n",
        "\n",
        "print(l)\n",
        "print(s[:10], len(s))"
      ]
    },
    {
      "cell_type": "code",
      "source": [
        "out = []\n",
        "for i in s:\n",
        "  if checkString(i):\n",
        "    out.append(i)"
      ],
      "metadata": {
        "id": "-gr-qBnnYQWT"
      },
      "execution_count": 60,
      "outputs": []
    },
    {
      "cell_type": "code",
      "source": [
        "print(out[100], len(out))"
      ],
      "metadata": {
        "colab": {
          "base_uri": "https://localhost:8080/"
        },
        "id": "eCa6gSdidsrK",
        "outputId": "932da933-b1d8-4318-9916-da52ea970acd"
      },
      "execution_count": 61,
      "outputs": [
        {
          "output_type": "stream",
          "name": "stdout",
          "text": [
            "ACEPE 9416\n"
          ]
        }
      ]
    },
    {
      "cell_type": "code",
      "source": [
        "textFile = open(\"Output.txt\", \"w\")\n",
        "textFile.write(\" \".join(out))\n",
        "textFile.close()"
      ],
      "metadata": {
        "id": "vp2R4DKnd5Xy"
      },
      "execution_count": 62,
      "outputs": []
    }
  ]
}